{
 "cells": [
  {
   "cell_type": "markdown",
   "metadata": {
    "id": "1YNXGVs1pAHf"
   },
   "source": [
    "# Unit 30"
   ]
  },
  {
   "cell_type": "code",
   "execution_count": 1,
   "metadata": {
    "colab": {
     "base_uri": "https://localhost:8080/"
    },
    "id": "xJ_S_F0MpFVy",
    "outputId": "acdbf4ef-04b5-4cf3-d633-62a5af14c5ab"
   },
   "outputs": [
    {
     "name": "stdout",
     "output_type": "stream",
     "text": [
      "10 20 30\n"
     ]
    }
   ],
   "source": [
    "print(10,20,30)"
   ]
  },
  {
   "cell_type": "code",
   "execution_count": 3,
   "metadata": {
    "colab": {
     "base_uri": "https://localhost:8080/"
    },
    "id": "w6OoEPeRpNrK",
    "outputId": "96b771a3-5b6e-41b6-edfe-40907e0a1df8"
   },
   "outputs": [
    {
     "name": "stdout",
     "output_type": "stream",
     "text": [
      "10\n",
      "20\n",
      "30\n"
     ]
    }
   ],
   "source": [
    "def print_numbers(a,b,c):\n",
    "  print(a)\n",
    "  print(b)\n",
    "  print(c)\n",
    "print_numbers(10,20,30)"
   ]
  },
  {
   "cell_type": "markdown",
   "metadata": {
    "id": "sOQrC-yJpdVD"
   },
   "source": [
    "## 언패킹 사용"
   ]
  },
  {
   "cell_type": "code",
   "execution_count": 6,
   "metadata": {
    "colab": {
     "base_uri": "https://localhost:8080/"
    },
    "id": "e1ibeNRupf0C",
    "outputId": "46c657e6-c741-4411-d57c-00da9b3abbc5"
   },
   "outputs": [
    {
     "name": "stdout",
     "output_type": "stream",
     "text": [
      "10\n",
      "20\n",
      "30\n",
      "10\n",
      "20\n",
      "30\n"
     ]
    }
   ],
   "source": [
    "x=[10,20,30]\n",
    "print_numbers(*x)\n",
    "print_numbers(*[10,20,30])"
   ]
  },
  {
   "cell_type": "markdown",
   "metadata": {
    "id": "UvNntldwp0Fa"
   },
   "source": [
    "## 가변 인수 함수 만들기\n",
    "```\n",
    "def 함수이름(*매개변수):\n",
    "  코드\n",
    "```"
   ]
  },
  {
   "cell_type": "code",
   "execution_count": 12,
   "metadata": {
    "colab": {
     "base_uri": "https://localhost:8080/"
    },
    "id": "xjBq0eNkp4Lq",
    "outputId": "f2be57ed-29b7-4d7d-a6ef-dfe9387ffa80"
   },
   "outputs": [
    {
     "name": "stdout",
     "output_type": "stream",
     "text": [
      "10\n",
      "10\n",
      "20\n",
      "30\n"
     ]
    }
   ],
   "source": [
    "def print_numbers(*args):\n",
    "  for arg in args:\n",
    "    print(arg)\n",
    "print_numbers(10)\n",
    "print_numbers(10,20,30)"
   ]
  },
  {
   "cell_type": "code",
   "execution_count": 13,
   "metadata": {
    "colab": {
     "base_uri": "https://localhost:8080/"
    },
    "id": "VkNAa3_gqtPK",
    "outputId": "251cbce5-a439-4f59-fda1-30e476721076"
   },
   "outputs": [
    {
     "name": "stdout",
     "output_type": "stream",
     "text": [
      "10\n",
      "10\n",
      "20\n",
      "30\n",
      "40\n"
     ]
    }
   ],
   "source": [
    "x=[10]\n",
    "print_numbers(*x)\n",
    "y=[10,20,30,40]\n",
    "print_numbers(*y)"
   ]
  },
  {
   "cell_type": "markdown",
   "metadata": {
    "id": "Tvmb7A7vqrQD"
   },
   "source": [
    "## 키워드 인수 사용"
   ]
  },
  {
   "cell_type": "code",
   "execution_count": 17,
   "metadata": {
    "colab": {
     "base_uri": "https://localhost:8080/"
    },
    "id": "vzTji0pFzDIK",
    "outputId": "0b97503e-5ea0-4108-b2b8-e23dd6f30622"
   },
   "outputs": [
    {
     "name": "stdout",
     "output_type": "stream",
     "text": [
      "이름 :  정상필\n",
      "나이 :  26\n",
      "주소 :  인천\n"
     ]
    }
   ],
   "source": [
    "def personal_info(name,age,address):\n",
    "  print('이름 : ',name)\n",
    "  print('나이 : ',age)\n",
    "  print('주소 : ',address)\n",
    "personal_info('정상필',26,'인천')"
   ]
  },
  {
   "cell_type": "markdown",
   "metadata": {
    "id": "YFyN0JjYzBco"
   },
   "source": [
    "### 키워드 인수 방식"
   ]
  },
  {
   "cell_type": "code",
   "execution_count": 20,
   "metadata": {
    "colab": {
     "base_uri": "https://localhost:8080/"
    },
    "id": "8jbz3auHzmv5",
    "outputId": "9acc6307-8ec6-4c12-c367-95641d97f341"
   },
   "outputs": [
    {
     "name": "stdout",
     "output_type": "stream",
     "text": [
      "이름 :  정상필\n",
      "나이 :  26\n",
      "주소 :  인천\n"
     ]
    }
   ],
   "source": [
    "personal_info(name='정상필',age=26,address='인천') # 순서를 맞추지 않아도 입력가능"
   ]
  },
  {
   "cell_type": "markdown",
   "metadata": {
    "id": "UJcYsKLIz2Hh"
   },
   "source": [
    "### 딕셔너리 언패킹 \n"
   ]
  },
  {
   "cell_type": "code",
   "execution_count": 21,
   "metadata": {
    "id": "25DcI42Kz8rA"
   },
   "outputs": [],
   "source": [
    "def personal_info(name,age,address):\n",
    "  print('이름 : ',name)\n",
    "  print('나이 : ',age)\n",
    "  print('주소 : ',address)"
   ]
  },
  {
   "cell_type": "code",
   "execution_count": 23,
   "metadata": {
    "colab": {
     "base_uri": "https://localhost:8080/"
    },
    "id": "rUKpNudLz_sY",
    "outputId": "197a7c26-36b7-42ae-98da-ed06a19eb667"
   },
   "outputs": [
    {
     "name": "stdout",
     "output_type": "stream",
     "text": [
      "이름 :  정상필\n",
      "나이 :  26\n",
      "주소 :  인천\n"
     ]
    }
   ],
   "source": [
    "x={'name': '정상필', 'age':26, 'address':'인천'}\n",
    "personal_info(**x) # *을 한번 사용하면 키가 출력, 두번사용하면 value를 출력"
   ]
  },
  {
   "cell_type": "markdown",
   "metadata": {
    "id": "T0RGPh8Z0rWY"
   },
   "source": [
    "### 키워드 인수를 사용하는 가변 인수 함수 만들기 \n",
    "```\n",
    "def 함수이름(**매개변수):\n",
    "  코드\n",
    "```"
   ]
  },
  {
   "cell_type": "code",
   "execution_count": 25,
   "metadata": {
    "id": "Usd7OfHP0uBw"
   },
   "outputs": [],
   "source": [
    "def personal_info(**kwargs):\n",
    "  for kw, arg in kwargs.items():\n",
    "    print(kw, ': ', arg, sep='')"
   ]
  },
  {
   "cell_type": "code",
   "execution_count": 29,
   "metadata": {
    "colab": {
     "base_uri": "https://localhost:8080/"
    },
    "id": "Mfz7V5oi1Dtw",
    "outputId": "a8ce62fa-c5d3-4f30-8296-63861a6bdd04"
   },
   "outputs": [
    {
     "name": "stdout",
     "output_type": "stream",
     "text": [
      "name: 정상필\n",
      "-------------\n",
      "name: 정상필\n",
      "age: 26\n",
      "address: 인천\n"
     ]
    }
   ],
   "source": [
    "personal_info(name='정상필')\n",
    "print('-------------')\n",
    "personal_info(name='정상필', age=26,address='인천')"
   ]
  },
  {
   "cell_type": "code",
   "execution_count": 32,
   "metadata": {
    "colab": {
     "base_uri": "https://localhost:8080/"
    },
    "id": "IIT_qEE21buA",
    "outputId": "dd67da1e-c620-49a7-f7c8-6108a8c23947"
   },
   "outputs": [
    {
     "name": "stdout",
     "output_type": "stream",
     "text": [
      "name: 정상필\n"
     ]
    }
   ],
   "source": [
    "x={'name':'정상필'}\n",
    "personal_info(**x)"
   ]
  },
  {
   "cell_type": "markdown",
   "metadata": {
    "id": "Yfb2btLu1o_I"
   },
   "source": [
    "- 보통 특정 키가 있는지 확인한뒤 기능을 만든다"
   ]
  },
  {
   "cell_type": "code",
   "execution_count": 34,
   "metadata": {
    "id": "jseC-JvY1h0A"
   },
   "outputs": [],
   "source": [
    "def personal_info(**kwargs):\n",
    "    if 'name' in kwargs:    # in으로 딕셔너리 안에 특정 키가 있는지 확인\n",
    "        print('이름: ', kwargs['name'])\n",
    "    if 'age' in kwargs:\n",
    "        print('나이: ', kwargs['age'])\n",
    "    if 'address' in kwargs:\n",
    "        print('주소: ', kwargs['address']) "
   ]
  },
  {
   "cell_type": "markdown",
   "metadata": {
    "id": "kp1NcTz-1044"
   },
   "source": [
    "## 매개변수 초깃값 지정\n",
    "```\n",
    "def 함수이름(매개변수=값):\n",
    "  코드\n",
    "``` \n",
    "- 인수를 생략할 때 초깃값 지정\n",
    "- 초깃값이 지정된 매개변수는 맨뒤쪽으로 빼야한다"
   ]
  },
  {
   "cell_type": "code",
   "execution_count": 35,
   "metadata": {
    "id": "Ge4C0uEM18ag"
   },
   "outputs": [],
   "source": [
    "def personal_info(name, age, address='비공개'):\n",
    "  print('이름: ', name)\n",
    "  print('나이: ', age)\n",
    "  print('주소: ', address)\n"
   ]
  },
  {
   "cell_type": "code",
   "execution_count": 37,
   "metadata": {
    "colab": {
     "base_uri": "https://localhost:8080/"
    },
    "id": "qc2aRM642Igx",
    "outputId": "346517cc-53c9-4408-9728-30a1e2d3fef6"
   },
   "outputs": [
    {
     "name": "stdout",
     "output_type": "stream",
     "text": [
      "이름:  홍길동\n",
      "나이:  30\n",
      "주소:  비공개\n"
     ]
    }
   ],
   "source": [
    "personal_info('홍길동',30) # 인수를 생략하면 초깃값으로 출력"
   ]
  },
  {
   "cell_type": "markdown",
   "metadata": {
    "id": "2iREfvHD2eWB"
   },
   "source": [
    "## Practice "
   ]
  },
  {
   "cell_type": "code",
   "execution_count": 41,
   "metadata": {
    "colab": {
     "base_uri": "https://localhost:8080/"
    },
    "id": "l3qDEpMT2k9Q",
    "outputId": "29e16971-f16f-4c2d-c605-7b04dd067d45"
   },
   "outputs": [
    {
     "name": "stdout",
     "output_type": "stream",
     "text": [
      "높은 점수: (100, 86, 81, 91)\n",
      "높은 점수: (86, 91)\n"
     ]
    }
   ],
   "source": [
    "korean, english, mathematics, science = 100, 86, 81, 91\n",
    "def get_max_score(*args):\n",
    "  return(args)\n",
    "\n",
    "max_score = get_max_score(korean, english, mathematics, science)\n",
    "print('높은 점수:', max_score)\n",
    " \n",
    "max_score = get_max_score(english, science)\n",
    "print('높은 점수:', max_score)"
   ]
  },
  {
   "cell_type": "markdown",
   "metadata": {
    "id": "45RrhLsf_Jhe"
   },
   "source": [
    "# Unit 29 "
   ]
  },
  {
   "cell_type": "markdown",
   "metadata": {
    "id": "4rg5bm2w_NiW"
   },
   "source": [
    "## Practice "
   ]
  },
  {
   "cell_type": "markdown",
   "metadata": {
    "id": "hBfZ-qoG_iaG"
   },
   "source": [
    "### 몫과 나머지를 구하는 함수 만들기 "
   ]
  },
  {
   "cell_type": "code",
   "execution_count": 43,
   "metadata": {
    "colab": {
     "base_uri": "https://localhost:8080/",
     "height": 137
    },
    "id": "gx8vXhHD_oYG",
    "outputId": "656e9ecf-7867-436f-f738-90913745e943"
   },
   "outputs": [
    {
     "ename": "IndentationError",
     "evalue": "ignored",
     "output_type": "error",
     "traceback": [
      "\u001b[0;36m  File \u001b[0;32m\"<ipython-input-43-0819549c81f4>\"\u001b[0;36m, line \u001b[0;32m8\u001b[0m\n\u001b[0;31m    return a//b, a%b\u001b[0m\n\u001b[0m    ^\u001b[0m\n\u001b[0;31mIndentationError\u001b[0m\u001b[0;31m:\u001b[0m unexpected indent\n"
     ]
    }
   ],
   "source": [
    "x=10\n",
    "y=3\n",
    "\n",
    "def get_quotient_remainder(a,b): \n",
    "  \"\"\"\n",
    "  a = int\n",
    "  b = int\n",
    "  함수를 실행 시 x를 y로 나눈 몫, 나머지를 출력\n",
    "  \"\"\"\n",
    "  return a//b, a%b \n",
    "quotient,remainder = get_quotient_remainder(x,y)\n",
    "print('몫:{0}, 나머지:{1}'.format(quotient,remainder))"
   ]
  }
 ],
 "metadata": {
  "colab": {
   "collapsed_sections": [],
   "name": "assignment1.ipynb",
   "provenance": [],
   "toc_visible": true
  },
  "kernelspec": {
   "display_name": "Python 3 (ipykernel)",
   "language": "python",
   "name": "python3"
  },
  "language_info": {
   "codemirror_mode": {
    "name": "ipython",
    "version": 3
   },
   "file_extension": ".py",
   "mimetype": "text/x-python",
   "name": "python",
   "nbconvert_exporter": "python",
   "pygments_lexer": "ipython3",
   "version": "3.9.12"
  }
 },
 "nbformat": 4,
 "nbformat_minor": 4
}
